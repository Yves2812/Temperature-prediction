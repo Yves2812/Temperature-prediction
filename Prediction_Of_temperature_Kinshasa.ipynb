{
 "cells": [
  {
   "cell_type": "code",
   "execution_count": null,
   "metadata": {},
   "outputs": [],
   "source": [
    "import warnings\n",
    "warnings.filterwarnings('ignore')\n",
    "import os\n",
    "\n",
    "import numpy as np\n",
    "import pandas as pd\n",
    "\n",
    "from matplotlib import pyplot as plt\n",
    "%matplotlib inline"
   ]
  },
  {
   "cell_type": "code",
   "execution_count": 11,
   "metadata": {},
   "outputs": [],
   "source": [
    "import sklearn\n",
    "from sklearn.model_selection import train_test_split\n",
    "from sklearn.metrics import accuracy_score\n",
    "\n",
    "from sklearn.linear_model import LinearRegression\n",
    "\n",
    "\n",
    "import tensorflow as tf\n",
    "from tensorflow import keras\n",
    "\n",
    "from sklearn import preprocessing\n",
    "\n",
    "\n"
   ]
  },
  {
   "cell_type": "code",
   "execution_count": 16,
   "metadata": {},
   "outputs": [
    {
     "data": {
      "text/html": [
       "<div>\n",
       "<style scoped>\n",
       "    .dataframe tbody tr th:only-of-type {\n",
       "        vertical-align: middle;\n",
       "    }\n",
       "\n",
       "    .dataframe tbody tr th {\n",
       "        vertical-align: top;\n",
       "    }\n",
       "\n",
       "    .dataframe thead th {\n",
       "        text-align: right;\n",
       "    }\n",
       "</style>\n",
       "<table border=\"1\" class=\"dataframe\">\n",
       "  <thead>\n",
       "    <tr style=\"text-align: right;\">\n",
       "      <th></th>\n",
       "      <th>Name</th>\n",
       "      <th>Date time</th>\n",
       "      <th>Maximum Temperature</th>\n",
       "      <th>Minimum Temperature</th>\n",
       "      <th>Temperature</th>\n",
       "      <th>Wind Chill</th>\n",
       "      <th>Heat Index</th>\n",
       "      <th>Precipitation</th>\n",
       "      <th>Snow</th>\n",
       "      <th>Snow Depth</th>\n",
       "      <th>Wind Speed</th>\n",
       "      <th>Wind Direction</th>\n",
       "      <th>Wind Gust</th>\n",
       "      <th>Visibility</th>\n",
       "      <th>Cloud Cover</th>\n",
       "      <th>Relative Humidity</th>\n",
       "      <th>Conditions</th>\n",
       "    </tr>\n",
       "  </thead>\n",
       "  <tbody>\n",
       "    <tr>\n",
       "      <td>0</td>\n",
       "      <td>Kinshasa, République Démocratique du Congo</td>\n",
       "      <td>01/01/2021</td>\n",
       "      <td>85.7</td>\n",
       "      <td>73.7</td>\n",
       "      <td>78.8</td>\n",
       "      <td>NaN</td>\n",
       "      <td>92.8</td>\n",
       "      <td>0.0</td>\n",
       "      <td>0</td>\n",
       "      <td>0</td>\n",
       "      <td>8.2</td>\n",
       "      <td>157.46</td>\n",
       "      <td>NaN</td>\n",
       "      <td>5.3</td>\n",
       "      <td>47.4</td>\n",
       "      <td>83.98</td>\n",
       "      <td>Partially cloudy</td>\n",
       "    </tr>\n",
       "    <tr>\n",
       "      <td>1</td>\n",
       "      <td>Kinshasa, République Démocratique du Congo</td>\n",
       "      <td>01/02/2021</td>\n",
       "      <td>77.0</td>\n",
       "      <td>71.6</td>\n",
       "      <td>74.0</td>\n",
       "      <td>NaN</td>\n",
       "      <td>NaN</td>\n",
       "      <td>0.0</td>\n",
       "      <td>0</td>\n",
       "      <td>0</td>\n",
       "      <td>9.2</td>\n",
       "      <td>172.38</td>\n",
       "      <td>NaN</td>\n",
       "      <td>5.1</td>\n",
       "      <td>49.2</td>\n",
       "      <td>90.80</td>\n",
       "      <td>Partially cloudy</td>\n",
       "    </tr>\n",
       "    <tr>\n",
       "      <td>2</td>\n",
       "      <td>Kinshasa, République Démocratique du Congo</td>\n",
       "      <td>01/03/2021</td>\n",
       "      <td>84.2</td>\n",
       "      <td>71.6</td>\n",
       "      <td>77.1</td>\n",
       "      <td>NaN</td>\n",
       "      <td>89.6</td>\n",
       "      <td>0.0</td>\n",
       "      <td>0</td>\n",
       "      <td>0</td>\n",
       "      <td>6.9</td>\n",
       "      <td>165.24</td>\n",
       "      <td>NaN</td>\n",
       "      <td>5.3</td>\n",
       "      <td>30.1</td>\n",
       "      <td>82.95</td>\n",
       "      <td>Partially cloudy</td>\n",
       "    </tr>\n",
       "    <tr>\n",
       "      <td>3</td>\n",
       "      <td>Kinshasa, République Démocratique du Congo</td>\n",
       "      <td>01/04/2021</td>\n",
       "      <td>89.7</td>\n",
       "      <td>73.7</td>\n",
       "      <td>80.1</td>\n",
       "      <td>NaN</td>\n",
       "      <td>96.4</td>\n",
       "      <td>0.0</td>\n",
       "      <td>0</td>\n",
       "      <td>0</td>\n",
       "      <td>6.9</td>\n",
       "      <td>182.18</td>\n",
       "      <td>NaN</td>\n",
       "      <td>5.6</td>\n",
       "      <td>29.8</td>\n",
       "      <td>76.97</td>\n",
       "      <td>Partially cloudy</td>\n",
       "    </tr>\n",
       "    <tr>\n",
       "      <td>4</td>\n",
       "      <td>Kinshasa, République Démocratique du Congo</td>\n",
       "      <td>01/05/2021</td>\n",
       "      <td>91.4</td>\n",
       "      <td>73.7</td>\n",
       "      <td>82.1</td>\n",
       "      <td>NaN</td>\n",
       "      <td>98.7</td>\n",
       "      <td>0.0</td>\n",
       "      <td>0</td>\n",
       "      <td>0</td>\n",
       "      <td>7.6</td>\n",
       "      <td>187.62</td>\n",
       "      <td>NaN</td>\n",
       "      <td>5.5</td>\n",
       "      <td>32.7</td>\n",
       "      <td>73.93</td>\n",
       "      <td>Partially cloudy</td>\n",
       "    </tr>\n",
       "  </tbody>\n",
       "</table>\n",
       "</div>"
      ],
      "text/plain": [
       "                                         Name   Date time  \\\n",
       "0  Kinshasa, République Démocratique du Congo  01/01/2021   \n",
       "1  Kinshasa, République Démocratique du Congo  01/02/2021   \n",
       "2  Kinshasa, République Démocratique du Congo  01/03/2021   \n",
       "3  Kinshasa, République Démocratique du Congo  01/04/2021   \n",
       "4  Kinshasa, République Démocratique du Congo  01/05/2021   \n",
       "\n",
       "   Maximum Temperature  Minimum Temperature  Temperature  Wind Chill  \\\n",
       "0                 85.7                 73.7         78.8         NaN   \n",
       "1                 77.0                 71.6         74.0         NaN   \n",
       "2                 84.2                 71.6         77.1         NaN   \n",
       "3                 89.7                 73.7         80.1         NaN   \n",
       "4                 91.4                 73.7         82.1         NaN   \n",
       "\n",
       "   Heat Index  Precipitation  Snow  Snow Depth  Wind Speed  Wind Direction  \\\n",
       "0        92.8            0.0     0           0         8.2          157.46   \n",
       "1         NaN            0.0     0           0         9.2          172.38   \n",
       "2        89.6            0.0     0           0         6.9          165.24   \n",
       "3        96.4            0.0     0           0         6.9          182.18   \n",
       "4        98.7            0.0     0           0         7.6          187.62   \n",
       "\n",
       "   Wind Gust  Visibility  Cloud Cover  Relative Humidity        Conditions  \n",
       "0        NaN         5.3         47.4              83.98  Partially cloudy  \n",
       "1        NaN         5.1         49.2              90.80  Partially cloudy  \n",
       "2        NaN         5.3         30.1              82.95  Partially cloudy  \n",
       "3        NaN         5.6         29.8              76.97  Partially cloudy  \n",
       "4        NaN         5.5         32.7              73.93  Partially cloudy  "
      ]
     },
     "execution_count": 16,
     "metadata": {},
     "output_type": "execute_result"
    }
   ],
   "source": [
    "os.chdir(\"..\")\n",
    "\n",
    "\n",
    "weather_pd = pd.read_csv('weather_kinshasa.csv')\n",
    "\n",
    "weather_pd.head()"
   ]
  },
  {
   "cell_type": "code",
   "execution_count": 17,
   "metadata": {},
   "outputs": [
    {
     "data": {
      "text/plain": [
       "Index(['Name', 'Date time', 'Maximum Temperature', 'Minimum Temperature',\n",
       "       'Temperature', 'Wind Chill', 'Heat Index', 'Precipitation', 'Snow',\n",
       "       'Snow Depth', 'Wind Speed', 'Wind Direction', 'Wind Gust', 'Visibility',\n",
       "       'Cloud Cover', 'Relative Humidity', 'Conditions'],\n",
       "      dtype='object')"
      ]
     },
     "execution_count": 17,
     "metadata": {},
     "output_type": "execute_result"
    }
   ],
   "source": [
    "weather_pd.columns"
   ]
  },
  {
   "cell_type": "code",
   "execution_count": 18,
   "metadata": {},
   "outputs": [
    {
     "data": {
      "text/plain": [
       "(36, 17)"
      ]
     },
     "execution_count": 18,
     "metadata": {},
     "output_type": "execute_result"
    }
   ],
   "source": [
    "weather_pd.shape"
   ]
  },
  {
   "cell_type": "code",
   "execution_count": 20,
   "metadata": {},
   "outputs": [
    {
     "data": {
      "text/html": [
       "<div>\n",
       "<style scoped>\n",
       "    .dataframe tbody tr th:only-of-type {\n",
       "        vertical-align: middle;\n",
       "    }\n",
       "\n",
       "    .dataframe tbody tr th {\n",
       "        vertical-align: top;\n",
       "    }\n",
       "\n",
       "    .dataframe thead th {\n",
       "        text-align: right;\n",
       "    }\n",
       "</style>\n",
       "<table border=\"1\" class=\"dataframe\">\n",
       "  <thead>\n",
       "    <tr style=\"text-align: right;\">\n",
       "      <th></th>\n",
       "      <th>Maximum Temperature</th>\n",
       "      <th>Minimum Temperature</th>\n",
       "      <th>Temperature</th>\n",
       "      <th>Wind Chill</th>\n",
       "      <th>Heat Index</th>\n",
       "      <th>Precipitation</th>\n",
       "      <th>Snow</th>\n",
       "      <th>Snow Depth</th>\n",
       "      <th>Wind Speed</th>\n",
       "      <th>Wind Direction</th>\n",
       "      <th>Wind Gust</th>\n",
       "      <th>Visibility</th>\n",
       "      <th>Cloud Cover</th>\n",
       "      <th>Relative Humidity</th>\n",
       "    </tr>\n",
       "  </thead>\n",
       "  <tbody>\n",
       "    <tr>\n",
       "      <td>count</td>\n",
       "      <td>36.000000</td>\n",
       "      <td>36.000000</td>\n",
       "      <td>36.000000</td>\n",
       "      <td>0.0</td>\n",
       "      <td>34.000000</td>\n",
       "      <td>36.000000</td>\n",
       "      <td>36.0</td>\n",
       "      <td>36.0</td>\n",
       "      <td>36.000000</td>\n",
       "      <td>36.000000</td>\n",
       "      <td>0.0</td>\n",
       "      <td>36.000000</td>\n",
       "      <td>36.000000</td>\n",
       "      <td>36.000000</td>\n",
       "    </tr>\n",
       "    <tr>\n",
       "      <td>mean</td>\n",
       "      <td>87.694444</td>\n",
       "      <td>73.125000</td>\n",
       "      <td>79.236111</td>\n",
       "      <td>NaN</td>\n",
       "      <td>95.050000</td>\n",
       "      <td>0.224444</td>\n",
       "      <td>0.0</td>\n",
       "      <td>0.0</td>\n",
       "      <td>10.200000</td>\n",
       "      <td>202.521944</td>\n",
       "      <td>NaN</td>\n",
       "      <td>5.566667</td>\n",
       "      <td>41.144444</td>\n",
       "      <td>78.295000</td>\n",
       "    </tr>\n",
       "    <tr>\n",
       "      <td>std</td>\n",
       "      <td>4.063141</td>\n",
       "      <td>1.578856</td>\n",
       "      <td>2.098864</td>\n",
       "      <td>NaN</td>\n",
       "      <td>4.157961</td>\n",
       "      <td>0.909909</td>\n",
       "      <td>0.0</td>\n",
       "      <td>0.0</td>\n",
       "      <td>3.788102</td>\n",
       "      <td>30.062502</td>\n",
       "      <td>NaN</td>\n",
       "      <td>0.188225</td>\n",
       "      <td>8.287079</td>\n",
       "      <td>4.538782</td>\n",
       "    </tr>\n",
       "    <tr>\n",
       "      <td>min</td>\n",
       "      <td>75.500000</td>\n",
       "      <td>68.300000</td>\n",
       "      <td>74.000000</td>\n",
       "      <td>NaN</td>\n",
       "      <td>84.600000</td>\n",
       "      <td>0.000000</td>\n",
       "      <td>0.0</td>\n",
       "      <td>0.0</td>\n",
       "      <td>5.800000</td>\n",
       "      <td>130.950000</td>\n",
       "      <td>NaN</td>\n",
       "      <td>5.100000</td>\n",
       "      <td>27.200000</td>\n",
       "      <td>70.030000</td>\n",
       "    </tr>\n",
       "    <tr>\n",
       "      <td>25%</td>\n",
       "      <td>86.000000</td>\n",
       "      <td>71.800000</td>\n",
       "      <td>78.225000</td>\n",
       "      <td>NaN</td>\n",
       "      <td>92.200000</td>\n",
       "      <td>0.000000</td>\n",
       "      <td>0.0</td>\n",
       "      <td>0.0</td>\n",
       "      <td>8.100000</td>\n",
       "      <td>180.582500</td>\n",
       "      <td>NaN</td>\n",
       "      <td>5.500000</td>\n",
       "      <td>35.175000</td>\n",
       "      <td>75.702500</td>\n",
       "    </tr>\n",
       "    <tr>\n",
       "      <td>50%</td>\n",
       "      <td>88.550000</td>\n",
       "      <td>73.550000</td>\n",
       "      <td>79.800000</td>\n",
       "      <td>NaN</td>\n",
       "      <td>95.300000</td>\n",
       "      <td>0.000000</td>\n",
       "      <td>0.0</td>\n",
       "      <td>0.0</td>\n",
       "      <td>9.200000</td>\n",
       "      <td>209.085000</td>\n",
       "      <td>NaN</td>\n",
       "      <td>5.600000</td>\n",
       "      <td>41.750000</td>\n",
       "      <td>77.125000</td>\n",
       "    </tr>\n",
       "    <tr>\n",
       "      <td>75%</td>\n",
       "      <td>89.700000</td>\n",
       "      <td>73.700000</td>\n",
       "      <td>80.525000</td>\n",
       "      <td>NaN</td>\n",
       "      <td>98.125000</td>\n",
       "      <td>0.000000</td>\n",
       "      <td>0.0</td>\n",
       "      <td>0.0</td>\n",
       "      <td>10.650000</td>\n",
       "      <td>224.855000</td>\n",
       "      <td>NaN</td>\n",
       "      <td>5.625000</td>\n",
       "      <td>47.650000</td>\n",
       "      <td>80.287500</td>\n",
       "    </tr>\n",
       "    <tr>\n",
       "      <td>max</td>\n",
       "      <td>95.000000</td>\n",
       "      <td>75.200000</td>\n",
       "      <td>83.300000</td>\n",
       "      <td>NaN</td>\n",
       "      <td>102.600000</td>\n",
       "      <td>3.940000</td>\n",
       "      <td>0.0</td>\n",
       "      <td>0.0</td>\n",
       "      <td>25.300000</td>\n",
       "      <td>267.500000</td>\n",
       "      <td>NaN</td>\n",
       "      <td>6.000000</td>\n",
       "      <td>59.400000</td>\n",
       "      <td>90.800000</td>\n",
       "    </tr>\n",
       "  </tbody>\n",
       "</table>\n",
       "</div>"
      ],
      "text/plain": [
       "       Maximum Temperature  Minimum Temperature  Temperature  Wind Chill  \\\n",
       "count            36.000000            36.000000    36.000000         0.0   \n",
       "mean             87.694444            73.125000    79.236111         NaN   \n",
       "std               4.063141             1.578856     2.098864         NaN   \n",
       "min              75.500000            68.300000    74.000000         NaN   \n",
       "25%              86.000000            71.800000    78.225000         NaN   \n",
       "50%              88.550000            73.550000    79.800000         NaN   \n",
       "75%              89.700000            73.700000    80.525000         NaN   \n",
       "max              95.000000            75.200000    83.300000         NaN   \n",
       "\n",
       "       Heat Index  Precipitation  Snow  Snow Depth  Wind Speed  \\\n",
       "count   34.000000      36.000000  36.0        36.0   36.000000   \n",
       "mean    95.050000       0.224444   0.0         0.0   10.200000   \n",
       "std      4.157961       0.909909   0.0         0.0    3.788102   \n",
       "min     84.600000       0.000000   0.0         0.0    5.800000   \n",
       "25%     92.200000       0.000000   0.0         0.0    8.100000   \n",
       "50%     95.300000       0.000000   0.0         0.0    9.200000   \n",
       "75%     98.125000       0.000000   0.0         0.0   10.650000   \n",
       "max    102.600000       3.940000   0.0         0.0   25.300000   \n",
       "\n",
       "       Wind Direction  Wind Gust  Visibility  Cloud Cover  Relative Humidity  \n",
       "count       36.000000        0.0   36.000000    36.000000          36.000000  \n",
       "mean       202.521944        NaN    5.566667    41.144444          78.295000  \n",
       "std         30.062502        NaN    0.188225     8.287079           4.538782  \n",
       "min        130.950000        NaN    5.100000    27.200000          70.030000  \n",
       "25%        180.582500        NaN    5.500000    35.175000          75.702500  \n",
       "50%        209.085000        NaN    5.600000    41.750000          77.125000  \n",
       "75%        224.855000        NaN    5.625000    47.650000          80.287500  \n",
       "max        267.500000        NaN    6.000000    59.400000          90.800000  "
      ]
     },
     "execution_count": 20,
     "metadata": {},
     "output_type": "execute_result"
    }
   ],
   "source": [
    "weather_pd.describe()"
   ]
  },
  {
   "cell_type": "code",
   "execution_count": 21,
   "metadata": {},
   "outputs": [
    {
     "name": "stdout",
     "output_type": "stream",
     "text": [
      "<class 'pandas.core.frame.DataFrame'>\n",
      "RangeIndex: 36 entries, 0 to 35\n",
      "Data columns (total 17 columns):\n",
      "Name                   36 non-null object\n",
      "Date time              36 non-null object\n",
      "Maximum Temperature    36 non-null float64\n",
      "Minimum Temperature    36 non-null float64\n",
      "Temperature            36 non-null float64\n",
      "Wind Chill             0 non-null float64\n",
      "Heat Index             34 non-null float64\n",
      "Precipitation          36 non-null float64\n",
      "Snow                   36 non-null int64\n",
      "Snow Depth             36 non-null int64\n",
      "Wind Speed             36 non-null float64\n",
      "Wind Direction         36 non-null float64\n",
      "Wind Gust              0 non-null float64\n",
      "Visibility             36 non-null float64\n",
      "Cloud Cover            36 non-null float64\n",
      "Relative Humidity      36 non-null float64\n",
      "Conditions             36 non-null object\n",
      "dtypes: float64(12), int64(2), object(3)\n",
      "memory usage: 4.9+ KB\n"
     ]
    }
   ],
   "source": [
    "weather_pd.info()"
   ]
  },
  {
   "cell_type": "code",
   "execution_count": 23,
   "metadata": {},
   "outputs": [
    {
     "data": {
      "text/plain": [
       "Name                   False\n",
       "Date time              False\n",
       "Maximum Temperature    False\n",
       "Minimum Temperature    False\n",
       "Temperature            False\n",
       "Wind Chill              True\n",
       "Heat Index              True\n",
       "Precipitation          False\n",
       "Snow                   False\n",
       "Snow Depth             False\n",
       "Wind Speed             False\n",
       "Wind Direction         False\n",
       "Wind Gust               True\n",
       "Visibility             False\n",
       "Cloud Cover            False\n",
       "Relative Humidity      False\n",
       "Conditions             False\n",
       "dtype: bool"
      ]
     },
     "execution_count": 23,
     "metadata": {},
     "output_type": "execute_result"
    }
   ],
   "source": [
    "weather_pd.isnull().any()"
   ]
  },
  {
   "cell_type": "code",
   "execution_count": 24,
   "metadata": {},
   "outputs": [
    {
     "data": {
      "text/plain": [
       "Name                   False\n",
       "Date time              False\n",
       "Maximum Temperature    False\n",
       "Minimum Temperature    False\n",
       "Temperature            False\n",
       "Wind Chill              True\n",
       "Heat Index             False\n",
       "Precipitation          False\n",
       "Snow                   False\n",
       "Snow Depth             False\n",
       "Wind Speed             False\n",
       "Wind Direction         False\n",
       "Wind Gust               True\n",
       "Visibility             False\n",
       "Cloud Cover            False\n",
       "Relative Humidity      False\n",
       "Conditions             False\n",
       "dtype: bool"
      ]
     },
     "execution_count": 24,
     "metadata": {},
     "output_type": "execute_result"
    }
   ],
   "source": [
    "weather_pd.isnull().all()"
   ]
  },
  {
   "cell_type": "code",
   "execution_count": 25,
   "metadata": {},
   "outputs": [
    {
     "data": {
      "text/plain": [
       "Name                     0.00\n",
       "Date time                0.00\n",
       "Maximum Temperature      0.00\n",
       "Minimum Temperature      0.00\n",
       "Temperature              0.00\n",
       "Wind Chill             100.00\n",
       "Heat Index               5.56\n",
       "Precipitation            0.00\n",
       "Snow                     0.00\n",
       "Snow Depth               0.00\n",
       "Wind Speed               0.00\n",
       "Wind Direction           0.00\n",
       "Wind Gust              100.00\n",
       "Visibility               0.00\n",
       "Cloud Cover              0.00\n",
       "Relative Humidity        0.00\n",
       "Conditions               0.00\n",
       "dtype: float64"
      ]
     },
     "execution_count": 25,
     "metadata": {},
     "output_type": "execute_result"
    }
   ],
   "source": [
    "round(100*(weather_pd.isnull().sum()/len(weather_pd.index)),2)"
   ]
  },
  {
   "cell_type": "code",
   "execution_count": 27,
   "metadata": {},
   "outputs": [
    {
     "data": {
      "text/plain": [
       "Series([], Name: Wind Chill, dtype: int64)"
      ]
     },
     "execution_count": 27,
     "metadata": {},
     "output_type": "execute_result"
    }
   ],
   "source": [
    "weather_pd['Wind Chill'].value_counts()"
   ]
  },
  {
   "cell_type": "code",
   "execution_count": 28,
   "metadata": {},
   "outputs": [
    {
     "data": {
      "text/plain": [
       "94.2     4\n",
       "100.3    2\n",
       "95.6     2\n",
       "93.8     1\n",
       "84.6     1\n",
       "92.0     1\n",
       "96.0     1\n",
       "95.0     1\n",
       "96.5     1\n",
       "98.2     1\n",
       "98.4     1\n",
       "86.2     1\n",
       "100.4    1\n",
       "89.6     1\n",
       "96.4     1\n",
       "93.6     1\n",
       "91.9     1\n",
       "90.3     1\n",
       "100.2    1\n",
       "90.6     1\n",
       "97.6     1\n",
       "97.9     1\n",
       "92.8     1\n",
       "98.7     1\n",
       "100.6    1\n",
       "96.3     1\n",
       "102.6    1\n",
       "91.4     1\n",
       "91.5     1\n",
       "Name: Heat Index, dtype: int64"
      ]
     },
     "execution_count": 28,
     "metadata": {},
     "output_type": "execute_result"
    }
   ],
   "source": [
    "weather_pd['Heat Index'].value_counts()"
   ]
  },
  {
   "cell_type": "code",
   "execution_count": 29,
   "metadata": {},
   "outputs": [
    {
     "data": {
      "text/plain": [
       "Series([], Name: Wind Gust, dtype: int64)"
      ]
     },
     "execution_count": 29,
     "metadata": {},
     "output_type": "execute_result"
    }
   ],
   "source": [
    "weather_pd['Wind Gust'].value_counts()"
   ]
  },
  {
   "cell_type": "code",
   "execution_count": 30,
   "metadata": {},
   "outputs": [],
   "source": [
    "weather_pd.loc[weather_pd['Heat Index'].isnull(), 'Heat Index'] = 94.2"
   ]
  },
  {
   "cell_type": "code",
   "execution_count": 31,
   "metadata": {},
   "outputs": [
    {
     "data": {
      "text/plain": [
       "Name                   False\n",
       "Date time              False\n",
       "Maximum Temperature    False\n",
       "Minimum Temperature    False\n",
       "Temperature            False\n",
       "Wind Chill              True\n",
       "Heat Index             False\n",
       "Precipitation          False\n",
       "Snow                   False\n",
       "Snow Depth             False\n",
       "Wind Speed             False\n",
       "Wind Direction         False\n",
       "Wind Gust               True\n",
       "Visibility             False\n",
       "Cloud Cover            False\n",
       "Relative Humidity      False\n",
       "Conditions             False\n",
       "dtype: bool"
      ]
     },
     "execution_count": 31,
     "metadata": {},
     "output_type": "execute_result"
    }
   ],
   "source": [
    "weather_pd.isnull().any()"
   ]
  },
  {
   "cell_type": "code",
   "execution_count": 32,
   "metadata": {},
   "outputs": [
    {
     "data": {
      "text/plain": [
       "Name                     0.0\n",
       "Date time                0.0\n",
       "Maximum Temperature      0.0\n",
       "Minimum Temperature      0.0\n",
       "Temperature              0.0\n",
       "Wind Chill             100.0\n",
       "Heat Index               0.0\n",
       "Precipitation            0.0\n",
       "Snow                     0.0\n",
       "Snow Depth               0.0\n",
       "Wind Speed               0.0\n",
       "Wind Direction           0.0\n",
       "Wind Gust              100.0\n",
       "Visibility               0.0\n",
       "Cloud Cover              0.0\n",
       "Relative Humidity        0.0\n",
       "Conditions               0.0\n",
       "dtype: float64"
      ]
     },
     "execution_count": 32,
     "metadata": {},
     "output_type": "execute_result"
    }
   ],
   "source": [
    "round(100*(weather_pd.isnull().sum()/len(weather_pd.index)),2)"
   ]
  },
  {
   "cell_type": "code",
   "execution_count": 33,
   "metadata": {},
   "outputs": [],
   "source": [
    "weather_pd.loc[weather_pd['Wind Chill'].isnull(), 'Wind Chill'] = 0\n",
    "weather_pd.loc[weather_pd['Wind Gust'].isnull(), 'Wind Gust'] = 0\n"
   ]
  },
  {
   "cell_type": "code",
   "execution_count": 34,
   "metadata": {},
   "outputs": [
    {
     "data": {
      "text/plain": [
       "Name                   0.0\n",
       "Date time              0.0\n",
       "Maximum Temperature    0.0\n",
       "Minimum Temperature    0.0\n",
       "Temperature            0.0\n",
       "Wind Chill             0.0\n",
       "Heat Index             0.0\n",
       "Precipitation          0.0\n",
       "Snow                   0.0\n",
       "Snow Depth             0.0\n",
       "Wind Speed             0.0\n",
       "Wind Direction         0.0\n",
       "Wind Gust              0.0\n",
       "Visibility             0.0\n",
       "Cloud Cover            0.0\n",
       "Relative Humidity      0.0\n",
       "Conditions             0.0\n",
       "dtype: float64"
      ]
     },
     "execution_count": 34,
     "metadata": {},
     "output_type": "execute_result"
    }
   ],
   "source": [
    "round(100*(weather_pd.isnull().sum()/len(weather_pd.index)),2)"
   ]
  },
  {
   "cell_type": "code",
   "execution_count": 38,
   "metadata": {},
   "outputs": [],
   "source": [
    "weather_pd_num =weather_pd[list(weather_pd.dtypes[weather_pd.dtypes != 'object'].index)]\n"
   ]
  },
  {
   "cell_type": "code",
   "execution_count": 41,
   "metadata": {},
   "outputs": [],
   "source": [
    "weather_y = weather_pd_num.pop('Temperature')\n",
    "weather_x = weather_pd_num"
   ]
  },
  {
   "cell_type": "code",
   "execution_count": 42,
   "metadata": {},
   "outputs": [],
   "source": [
    "train_x,test_x, train_y, test_y = train_test_split(weather_x,weather_y,test_size = 0.2, random_state= 4)"
   ]
  },
  {
   "cell_type": "code",
   "execution_count": 43,
   "metadata": {},
   "outputs": [
    {
     "data": {
      "text/html": [
       "<div>\n",
       "<style scoped>\n",
       "    .dataframe tbody tr th:only-of-type {\n",
       "        vertical-align: middle;\n",
       "    }\n",
       "\n",
       "    .dataframe tbody tr th {\n",
       "        vertical-align: top;\n",
       "    }\n",
       "\n",
       "    .dataframe thead th {\n",
       "        text-align: right;\n",
       "    }\n",
       "</style>\n",
       "<table border=\"1\" class=\"dataframe\">\n",
       "  <thead>\n",
       "    <tr style=\"text-align: right;\">\n",
       "      <th></th>\n",
       "      <th>Maximum Temperature</th>\n",
       "      <th>Minimum Temperature</th>\n",
       "      <th>Wind Chill</th>\n",
       "      <th>Heat Index</th>\n",
       "      <th>Precipitation</th>\n",
       "      <th>Snow</th>\n",
       "      <th>Snow Depth</th>\n",
       "      <th>Wind Speed</th>\n",
       "      <th>Wind Direction</th>\n",
       "      <th>Wind Gust</th>\n",
       "      <th>Visibility</th>\n",
       "      <th>Cloud Cover</th>\n",
       "      <th>Relative Humidity</th>\n",
       "    </tr>\n",
       "  </thead>\n",
       "  <tbody>\n",
       "    <tr>\n",
       "      <td>2</td>\n",
       "      <td>84.2</td>\n",
       "      <td>71.6</td>\n",
       "      <td>0.0</td>\n",
       "      <td>89.6</td>\n",
       "      <td>0.0</td>\n",
       "      <td>0</td>\n",
       "      <td>0</td>\n",
       "      <td>6.9</td>\n",
       "      <td>165.24</td>\n",
       "      <td>0.0</td>\n",
       "      <td>5.3</td>\n",
       "      <td>30.1</td>\n",
       "      <td>82.95</td>\n",
       "    </tr>\n",
       "    <tr>\n",
       "      <td>24</td>\n",
       "      <td>87.8</td>\n",
       "      <td>75.2</td>\n",
       "      <td>0.0</td>\n",
       "      <td>94.2</td>\n",
       "      <td>0.0</td>\n",
       "      <td>0</td>\n",
       "      <td>0</td>\n",
       "      <td>8.2</td>\n",
       "      <td>176.18</td>\n",
       "      <td>0.0</td>\n",
       "      <td>5.7</td>\n",
       "      <td>42.7</td>\n",
       "      <td>77.78</td>\n",
       "    </tr>\n",
       "    <tr>\n",
       "      <td>11</td>\n",
       "      <td>87.8</td>\n",
       "      <td>73.7</td>\n",
       "      <td>0.0</td>\n",
       "      <td>95.6</td>\n",
       "      <td>0.0</td>\n",
       "      <td>0</td>\n",
       "      <td>0</td>\n",
       "      <td>8.8</td>\n",
       "      <td>221.75</td>\n",
       "      <td>0.0</td>\n",
       "      <td>5.6</td>\n",
       "      <td>45.2</td>\n",
       "      <td>79.11</td>\n",
       "    </tr>\n",
       "    <tr>\n",
       "      <td>19</td>\n",
       "      <td>89.7</td>\n",
       "      <td>71.8</td>\n",
       "      <td>0.0</td>\n",
       "      <td>96.5</td>\n",
       "      <td>0.0</td>\n",
       "      <td>0</td>\n",
       "      <td>0</td>\n",
       "      <td>7.2</td>\n",
       "      <td>191.86</td>\n",
       "      <td>0.0</td>\n",
       "      <td>5.6</td>\n",
       "      <td>37.0</td>\n",
       "      <td>76.76</td>\n",
       "    </tr>\n",
       "    <tr>\n",
       "      <td>30</td>\n",
       "      <td>89.3</td>\n",
       "      <td>68.3</td>\n",
       "      <td>0.0</td>\n",
       "      <td>97.6</td>\n",
       "      <td>0.0</td>\n",
       "      <td>0</td>\n",
       "      <td>0</td>\n",
       "      <td>13.2</td>\n",
       "      <td>227.96</td>\n",
       "      <td>0.0</td>\n",
       "      <td>5.2</td>\n",
       "      <td>49.1</td>\n",
       "      <td>82.02</td>\n",
       "    </tr>\n",
       "  </tbody>\n",
       "</table>\n",
       "</div>"
      ],
      "text/plain": [
       "    Maximum Temperature  Minimum Temperature  Wind Chill  Heat Index  \\\n",
       "2                  84.2                 71.6         0.0        89.6   \n",
       "24                 87.8                 75.2         0.0        94.2   \n",
       "11                 87.8                 73.7         0.0        95.6   \n",
       "19                 89.7                 71.8         0.0        96.5   \n",
       "30                 89.3                 68.3         0.0        97.6   \n",
       "\n",
       "    Precipitation  Snow  Snow Depth  Wind Speed  Wind Direction  Wind Gust  \\\n",
       "2             0.0     0           0         6.9          165.24        0.0   \n",
       "24            0.0     0           0         8.2          176.18        0.0   \n",
       "11            0.0     0           0         8.8          221.75        0.0   \n",
       "19            0.0     0           0         7.2          191.86        0.0   \n",
       "30            0.0     0           0        13.2          227.96        0.0   \n",
       "\n",
       "    Visibility  Cloud Cover  Relative Humidity  \n",
       "2          5.3         30.1              82.95  \n",
       "24         5.7         42.7              77.78  \n",
       "11         5.6         45.2              79.11  \n",
       "19         5.6         37.0              76.76  \n",
       "30         5.2         49.1              82.02  "
      ]
     },
     "execution_count": 43,
     "metadata": {},
     "output_type": "execute_result"
    }
   ],
   "source": [
    "train_x.head()"
   ]
  },
  {
   "cell_type": "code",
   "execution_count": 44,
   "metadata": {},
   "outputs": [
    {
     "data": {
      "text/plain": [
       "LinearRegression(copy_X=True, fit_intercept=True, n_jobs=None, normalize=False)"
      ]
     },
     "execution_count": 44,
     "metadata": {},
     "output_type": "execute_result"
    }
   ],
   "source": [
    "\n",
    "model = LinearRegression()\n",
    "model.fit(train_x,train_y)"
   ]
  },
  {
   "cell_type": "code",
   "execution_count": 45,
   "metadata": {},
   "outputs": [],
   "source": [
    "prediction = model.predict(test_x)"
   ]
  },
  {
   "cell_type": "code",
   "execution_count": 47,
   "metadata": {},
   "outputs": [
    {
     "data": {
      "text/plain": [
       "0.4122668441819317"
      ]
     },
     "execution_count": 47,
     "metadata": {},
     "output_type": "execute_result"
    }
   ],
   "source": [
    "# Error estimation\n",
    "\n",
    "np.mean((prediction - test_y)**2)"
   ]
  },
  {
   "cell_type": "code",
   "execution_count": 48,
   "metadata": {},
   "outputs": [
    {
     "data": {
      "text/html": [
       "<div>\n",
       "<style scoped>\n",
       "    .dataframe tbody tr th:only-of-type {\n",
       "        vertical-align: middle;\n",
       "    }\n",
       "\n",
       "    .dataframe tbody tr th {\n",
       "        vertical-align: top;\n",
       "    }\n",
       "\n",
       "    .dataframe thead th {\n",
       "        text-align: right;\n",
       "    }\n",
       "</style>\n",
       "<table border=\"1\" class=\"dataframe\">\n",
       "  <thead>\n",
       "    <tr style=\"text-align: right;\">\n",
       "      <th></th>\n",
       "      <th>actual</th>\n",
       "      <th>prediction</th>\n",
       "      <th>Diff</th>\n",
       "    </tr>\n",
       "  </thead>\n",
       "  <tbody>\n",
       "    <tr>\n",
       "      <td>15</td>\n",
       "      <td>79.8</td>\n",
       "      <td>79.760627</td>\n",
       "      <td>0.039373</td>\n",
       "    </tr>\n",
       "    <tr>\n",
       "      <td>22</td>\n",
       "      <td>76.8</td>\n",
       "      <td>77.767652</td>\n",
       "      <td>-0.967652</td>\n",
       "    </tr>\n",
       "    <tr>\n",
       "      <td>17</td>\n",
       "      <td>80.9</td>\n",
       "      <td>80.308236</td>\n",
       "      <td>0.591764</td>\n",
       "    </tr>\n",
       "    <tr>\n",
       "      <td>20</td>\n",
       "      <td>79.4</td>\n",
       "      <td>79.996739</td>\n",
       "      <td>-0.596739</td>\n",
       "    </tr>\n",
       "    <tr>\n",
       "      <td>34</td>\n",
       "      <td>81.0</td>\n",
       "      <td>80.834799</td>\n",
       "      <td>0.165201</td>\n",
       "    </tr>\n",
       "    <tr>\n",
       "      <td>16</td>\n",
       "      <td>80.6</td>\n",
       "      <td>81.652435</td>\n",
       "      <td>-1.052435</td>\n",
       "    </tr>\n",
       "    <tr>\n",
       "      <td>29</td>\n",
       "      <td>75.3</td>\n",
       "      <td>74.669082</td>\n",
       "      <td>0.630918</td>\n",
       "    </tr>\n",
       "    <tr>\n",
       "      <td>21</td>\n",
       "      <td>80.1</td>\n",
       "      <td>80.447828</td>\n",
       "      <td>-0.347828</td>\n",
       "    </tr>\n",
       "  </tbody>\n",
       "</table>\n",
       "</div>"
      ],
      "text/plain": [
       "    actual  prediction      Diff\n",
       "15    79.8   79.760627  0.039373\n",
       "22    76.8   77.767652 -0.967652\n",
       "17    80.9   80.308236  0.591764\n",
       "20    79.4   79.996739 -0.596739\n",
       "34    81.0   80.834799  0.165201\n",
       "16    80.6   81.652435 -1.052435\n",
       "29    75.3   74.669082  0.630918\n",
       "21    80.1   80.447828 -0.347828"
      ]
     },
     "execution_count": 48,
     "metadata": {},
     "output_type": "execute_result"
    }
   ],
   "source": [
    "pd.DataFrame({'actual': test_y,\n",
    "              'prediction': prediction,\n",
    "            'Diff': (test_y - prediction)})"
   ]
  },
  {
   "cell_type": "code",
   "execution_count": null,
   "metadata": {},
   "outputs": [],
   "source": []
  },
  {
   "cell_type": "code",
   "execution_count": null,
   "metadata": {},
   "outputs": [],
   "source": []
  },
  {
   "cell_type": "code",
   "execution_count": null,
   "metadata": {},
   "outputs": [],
   "source": []
  },
  {
   "cell_type": "code",
   "execution_count": null,
   "metadata": {},
   "outputs": [],
   "source": []
  },
  {
   "cell_type": "code",
   "execution_count": null,
   "metadata": {},
   "outputs": [],
   "source": []
  },
  {
   "cell_type": "code",
   "execution_count": null,
   "metadata": {},
   "outputs": [],
   "source": []
  },
  {
   "cell_type": "code",
   "execution_count": null,
   "metadata": {},
   "outputs": [],
   "source": []
  }
 ],
 "metadata": {
  "kernelspec": {
   "display_name": "Python 3",
   "language": "python",
   "name": "python3"
  },
  "language_info": {
   "codemirror_mode": {
    "name": "ipython",
    "version": 3
   },
   "file_extension": ".py",
   "mimetype": "text/x-python",
   "name": "python",
   "nbconvert_exporter": "python",
   "pygments_lexer": "ipython3",
   "version": "3.7.4"
  }
 },
 "nbformat": 4,
 "nbformat_minor": 2
}
